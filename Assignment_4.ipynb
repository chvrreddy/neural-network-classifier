{
  "nbformat": 4,
  "nbformat_minor": 0,
  "metadata": {
    "colab": {
      "provenance": [],
      "authorship_tag": "ABX9TyPG591R2y3jBauoZkOPAnhC"
    },
    "kernelspec": {
      "name": "python3",
      "display_name": "Python 3"
    },
    "language_info": {
      "name": "python"
    }
  },
  "cells": [
    {
      "cell_type": "markdown",
      "source": [
        "Setup + imports"
      ],
      "metadata": {
        "id": "RR3oelMWWIP3"
      }
    },
    {
      "cell_type": "code",
      "execution_count": 1,
      "metadata": {
        "id": "c3GSmbFSV71h"
      },
      "outputs": [],
      "source": [
        "import numpy as np\n",
        "import matplotlib.pyplot as plt\n",
        "\n",
        "np.random.seed(1)  # reproducible\n"
      ]
    },
    {
      "cell_type": "markdown",
      "source": [
        "Define the 5×6 binary patterns (A, B, C) and a small helper"
      ],
      "metadata": {
        "id": "iyHGdr_mWcgw"
      }
    },
    {
      "cell_type": "code",
      "source": [
        "# Define 6 rows × 5 cols patterns (rows = 6, cols = 5)\n",
        "A_6x5 = np.array([\n",
        "    [0,1,1,1,0],\n",
        "    [1,0,0,0,1],\n",
        "    [1,0,0,0,1],\n",
        "    [1,1,1,1,1],\n",
        "    [1,0,0,0,1],\n",
        "    [1,0,0,0,1],\n",
        "], dtype=float)\n",
        "\n",
        "B_6x5 = np.array([\n",
        "    [1,1,1,1,0],\n",
        "    [1,0,0,0,1],\n",
        "    [1,1,1,1,0],\n",
        "    [1,0,0,0,1],\n",
        "    [1,0,0,0,1],\n",
        "    [1,1,1,1,0],\n",
        "], dtype=float)\n",
        "\n",
        "C_6x5 = np.array([\n",
        "    [0,1,1,1,1],\n",
        "    [1,0,0,0,0],\n",
        "    [1,0,0,0,0],\n",
        "    [1,0,0,0,0],\n",
        "    [1,0,0,0,0],\n",
        "    [0,1,1,1,1],\n",
        "], dtype=float)\n",
        "\n",
        "def flatten(img):\n",
        "    return img.flatten()  # 6x5 -> 30\n"
      ],
      "metadata": {
        "id": "wvffoOLlWlhn"
      },
      "execution_count": 2,
      "outputs": []
    },
    {
      "cell_type": "markdown",
      "source": [
        "Build a dataset with noisy variants\n"
      ],
      "metadata": {
        "id": "_Fb3isgbXMMW"
      }
    },
    {
      "cell_type": "code",
      "source": [
        "def make_dataset(n_per_class=200, noise_prob=0.05, seed=0):\n",
        "    rng = np.random.default_rng(seed)\n",
        "    patterns = [flatten(A_6x5), flatten(B_6x5), flatten(C_6x5)]\n",
        "    X_list, Y_list = [], []\n",
        "    for cls_idx, base in enumerate(patterns):\n",
        "        for _ in range(n_per_class):\n",
        "            x = base.copy()\n",
        "            flips = rng.random(x.shape) < noise_prob\n",
        "            x[flips] = 1.0 - x[flips]\n",
        "            X_list.append(x)\n",
        "            y = np.zeros(3); y[cls_idx] = 1.0\n",
        "            Y_list.append(y)\n",
        "    X = np.stack(X_list)\n",
        "    Y = np.stack(Y_list)\n",
        "    # shuffle\n",
        "    perm = rng.permutation(len(X))\n",
        "    return X[perm], Y[perm]\n",
        "\n",
        "# create dataset and split train/val\n",
        "X, Y = make_dataset(n_per_class=300, noise_prob=0.05, seed=0)\n",
        "split = int(0.8 * X.shape[0])\n",
        "X_train, Y_train = X[:split], Y[:split]\n",
        "X_val,   Y_val   = X[split:], Y[split:]\n",
        "print(\"Shapes:\", X_train.shape, Y_train.shape, X_val.shape)\n"
      ],
      "metadata": {
        "colab": {
          "base_uri": "https://localhost:8080/"
        },
        "id": "RRRoTvgYW20i",
        "outputId": "ab0ec60b-61b2-4e3a-c18b-8a0ce7449713"
      },
      "execution_count": 3,
      "outputs": [
        {
          "output_type": "stream",
          "name": "stdout",
          "text": [
            "Shapes: (720, 30) (720, 3) (180, 30)\n"
          ]
        }
      ]
    },
    {
      "cell_type": "markdown",
      "source": [
        "Network architecture & weight initialization"
      ],
      "metadata": {
        "id": "ULZ0H9bGXxR9"
      }
    },
    {
      "cell_type": "code",
      "source": [
        "input_dim = 30\n",
        "hidden_dim = 16  # tunable\n",
        "output_dim = 3\n",
        "\n",
        "rng = np.random.default_rng(2)\n",
        "W1 = 0.1 * rng.standard_normal((input_dim, hidden_dim))\n",
        "b1 = np.zeros((1, hidden_dim))\n",
        "W2 = 0.1 * rng.standard_normal((hidden_dim, output_dim))\n",
        "b2 = np.zeros((1, output_dim))\n"
      ],
      "metadata": {
        "id": "fF38Zma2XoAk"
      },
      "execution_count": 4,
      "outputs": []
    },
    {
      "cell_type": "markdown",
      "source": [
        "Activation, forward pass"
      ],
      "metadata": {
        "id": "EQmZ2AobX8Rr"
      }
    },
    {
      "cell_type": "code",
      "source": [
        "def sigmoid(z):\n",
        "    return 1.0 / (1.0 + np.exp(-z))\n",
        "\n",
        "def forward(X):\n",
        "    z1 = X @ W1 + b1        # (N, H)\n",
        "    a1 = sigmoid(z1)        # (N, H)\n",
        "    z2 = a1 @ W2 + b2       # (N, 3)\n",
        "    a2 = sigmoid(z2)        # (N, 3)\n",
        "    return {\"z1\": z1, \"a1\": a1, \"z2\": z2, \"a2\": a2}\n"
      ],
      "metadata": {
        "id": "CKMiEbv_X3p7"
      },
      "execution_count": 5,
      "outputs": []
    },
    {
      "cell_type": "markdown",
      "source": [
        "Loss (Binary Cross-Entropy) and accuracy metric"
      ],
      "metadata": {
        "id": "CLON5BzFYH-F"
      }
    },
    {
      "cell_type": "code",
      "source": [
        "def bce_loss(y_true, y_pred, eps=1e-9):\n",
        "    y_pred = np.clip(y_pred, eps, 1 - eps)\n",
        "    return -np.mean(y_true * np.log(y_pred) + (1 - y_true) * np.log(1 - y_pred))\n",
        "\n",
        "def accuracy(y_true, y_pred):\n",
        "    return np.mean(np.argmax(y_true, axis=1) == np.argmax(y_pred, axis=1))\n"
      ],
      "metadata": {
        "id": "VrMpxXmqYCga"
      },
      "execution_count": 6,
      "outputs": []
    },
    {
      "cell_type": "markdown",
      "source": [
        "Backpropagation: math & code"
      ],
      "metadata": {
        "id": "XxWjqpvHYSAl"
      }
    },
    {
      "cell_type": "code",
      "source": [
        "def backprop_update(Xb, Yb, lr=0.5):\n",
        "    global W1, b1, W2, b2\n",
        "    N = Xb.shape[0]\n",
        "    cache = forward(Xb)\n",
        "    a1, a2 = cache[\"a1\"], cache[\"a2\"]\n",
        "\n",
        "    # gradient at output (batch averaged)\n",
        "    dz2 = (a2 - Yb) / N              # (N,3)\n",
        "    dW2 = a1.T @ dz2                 # (H,3)\n",
        "    db2 = np.sum(dz2, axis=0, keepdims=True)\n",
        "\n",
        "    # hidden gradients\n",
        "    da1 = dz2 @ W2.T                 # (N,H)\n",
        "    dz1 = da1 * a1 * (1 - a1)        # (N,H)\n",
        "    dW1 = Xb.T @ dz1                 # (30,H)\n",
        "    db1 = np.sum(dz1, axis=0, keepdims=True)\n",
        "\n",
        "    # update params (gradient descent)\n",
        "    W2 -= lr * dW2\n",
        "    b2 -= lr * db2\n",
        "    W1 -= lr * dW1\n",
        "    b1 -= lr * db1\n",
        "\n",
        "    # return current loss & acc\n",
        "    loss = bce_loss(Yb, a2)\n",
        "    acc  = accuracy(Yb, a2)\n",
        "    return loss, acc\n"
      ],
      "metadata": {
        "id": "w3OUmE1fYTZ-"
      },
      "execution_count": 7,
      "outputs": []
    },
    {
      "cell_type": "markdown",
      "source": [
        "Training loop (full batching) + validation monitoring"
      ],
      "metadata": {
        "id": "96ubvRczYdbW"
      }
    },
    {
      "cell_type": "code",
      "source": [
        "epochs = 1500\n",
        "lr = 0.5\n",
        "\n",
        "hist = {\"loss_tr\": [], \"acc_tr\": [], \"loss_val\": [], \"acc_val\": []}\n",
        "\n",
        "for ep in range(1, epochs + 1):\n",
        "    loss_tr, acc_tr = backprop_update(X_train, Y_train, lr=lr)\n",
        "    val_pred = forward(X_val)[\"a2\"]\n",
        "    loss_val = bce_loss(Y_val, val_pred)\n",
        "    acc_val  = accuracy(Y_val, val_pred)\n",
        "\n",
        "    hist[\"loss_tr\"].append(loss_tr)\n",
        "    hist[\"acc_tr\"].append(acc_tr)\n",
        "    hist[\"loss_val\"].append(loss_val)\n",
        "    hist[\"acc_val\"].append(acc_val)\n",
        "\n",
        "    if ep % 100 == 0:\n",
        "        print(f\"Epoch {ep:4d}: train loss {loss_tr:.4f}, train acc {acc_tr:.3f} | val loss {loss_val:.4f}, val acc {acc_val:.3f}\")\n"
      ],
      "metadata": {
        "colab": {
          "base_uri": "https://localhost:8080/"
        },
        "id": "_SCnljFPYYlT",
        "outputId": "1d7f28e0-ee50-4282-c748-017095da67b0"
      },
      "execution_count": 8,
      "outputs": [
        {
          "output_type": "stream",
          "name": "stdout",
          "text": [
            "Epoch  100: train loss 0.0313, train acc 1.000 | val loss 0.0301, val acc 1.000\n",
            "Epoch  200: train loss 0.0118, train acc 1.000 | val loss 0.0111, val acc 1.000\n",
            "Epoch  300: train loss 0.0071, train acc 1.000 | val loss 0.0066, val acc 1.000\n",
            "Epoch  400: train loss 0.0051, train acc 1.000 | val loss 0.0046, val acc 1.000\n",
            "Epoch  500: train loss 0.0039, train acc 1.000 | val loss 0.0035, val acc 1.000\n",
            "Epoch  600: train loss 0.0032, train acc 1.000 | val loss 0.0029, val acc 1.000\n",
            "Epoch  700: train loss 0.0027, train acc 1.000 | val loss 0.0024, val acc 1.000\n",
            "Epoch  800: train loss 0.0023, train acc 1.000 | val loss 0.0021, val acc 1.000\n",
            "Epoch  900: train loss 0.0020, train acc 1.000 | val loss 0.0018, val acc 1.000\n",
            "Epoch 1000: train loss 0.0018, train acc 1.000 | val loss 0.0016, val acc 1.000\n",
            "Epoch 1100: train loss 0.0016, train acc 1.000 | val loss 0.0014, val acc 1.000\n",
            "Epoch 1200: train loss 0.0015, train acc 1.000 | val loss 0.0013, val acc 1.000\n",
            "Epoch 1300: train loss 0.0014, train acc 1.000 | val loss 0.0012, val acc 1.000\n",
            "Epoch 1400: train loss 0.0013, train acc 1.000 | val loss 0.0011, val acc 1.000\n",
            "Epoch 1500: train loss 0.0012, train acc 1.000 | val loss 0.0010, val acc 1.000\n"
          ]
        }
      ]
    },
    {
      "cell_type": "markdown",
      "source": [
        "Plot loss & accuracy"
      ],
      "metadata": {
        "id": "F7Dd9796Yol_"
      }
    },
    {
      "cell_type": "code",
      "source": [
        "plt.figure()\n",
        "plt.plot(hist[\"loss_tr\"], label=\"train loss\")\n",
        "plt.plot(hist[\"loss_val\"], label=\"val loss\")\n",
        "plt.xlabel(\"epoch\"); plt.ylabel(\"BCE loss\"); plt.legend(); plt.title(\"Loss\")\n",
        "plt.show()\n",
        "\n",
        "plt.figure()\n",
        "plt.plot(hist[\"acc_tr\"], label=\"train acc\")\n",
        "plt.plot(hist[\"acc_val\"], label=\"val acc\")\n",
        "plt.xlabel(\"epoch\"); plt.ylabel(\"accuracy\"); plt.legend(); plt.title(\"Accuracy\")\n",
        "plt.show()\n"
      ],
      "metadata": {
        "colab": {
          "base_uri": "https://localhost:8080/",
          "height": 927
        },
        "id": "W65nTkhTYhja",
        "outputId": "f61a0171-f793-49b5-8de2-3a18791fe602"
      },
      "execution_count": 9,
      "outputs": [
        {
          "output_type": "display_data",
          "data": {
            "text/plain": [
              "<Figure size 640x480 with 1 Axes>"
            ],
            "image/png": "[encoded data removed]"
          },
          "metadata": {}
        },
        {
          "output_type": "display_data",
          "data": {
            "text/plain": [
              "<Figure size 640x480 with 1 Axes>"
            ],
            "image/png": "[encoded data removed]"
          },
          "metadata": {}
        }
      ]
    },
    {
      "cell_type": "markdown",
      "source": [
        "Test on clean samples and show images"
      ],
      "metadata": {
        "id": "4cDJnEdLY0cj"
      }
    },
    {
      "cell_type": "code",
      "source": [
        "def predict(Xb):\n",
        "    probs = forward(Xb)[\"a2\"]\n",
        "    return np.argmax(probs, axis=1), probs\n",
        "\n",
        "# test on clean exemplars\n",
        "clean_A = flatten(A_6x5)[None, :]\n",
        "clean_B = flatten(B_6x5)[None, :]\n",
        "clean_C = flatten(C_6x5)[None, :]\n",
        "\n",
        "for name, sample in [(\"A\", clean_A), (\"B\", clean_B), (\"C\", clean_C)]:\n",
        "    cl, probs = predict(sample)\n",
        "    print(f\"Clean {name} -> predicted class {cl[0]} (0=A,1=B,2=C), probs={probs.round(3)}\")\n",
        "\n",
        "# show a few noisy samples and predictions\n",
        "rng = np.random.default_rng(123)\n",
        "labels = [\"A\",\"B\",\"C\"]\n",
        "for cls in range(3):\n",
        "    base = flatten([A_6x5, B_6x5, C_6x5][cls])\n",
        "    x = base.copy()\n",
        "    flips = rng.random(x.shape) < 0.10  # 10% noise\n",
        "    x[flips] = 1 - x[flips]\n",
        "    cl, probs = predict(x[None,:])\n",
        "    img = x.reshape(6,5)\n",
        "    plt.figure()\n",
        "    plt.imshow(img, cmap=\"gray\")\n",
        "    plt.title(f\"True {labels[cls]} | Pred {labels[cl[0]]} | probs={probs.round(2)}\")\n",
        "    plt.axis(\"off\")\n",
        "    plt.show()\n"
      ],
      "metadata": {
        "colab": {
          "base_uri": "https://localhost:8080/",
          "height": 1000
        },
        "id": "ciayPxLjYuK6",
        "outputId": "01ac8043-99ea-4af1-cd52-d42e6c60f45b"
      },
      "execution_count": 10,
      "outputs": [
        {
          "output_type": "stream",
          "name": "stdout",
          "text": [
            "Clean A -> predicted class 0 (0=A,1=B,2=C), probs=[[0.999 0.001 0.001]]\n",
            "Clean B -> predicted class 1 (0=A,1=B,2=C), probs=[[0.001 0.999 0.001]]\n",
            "Clean C -> predicted class 2 (0=A,1=B,2=C), probs=[[0.    0.    0.999]]\n"
          ]
        },
        {
          "output_type": "display_data",
          "data": {
            "text/plain": [
              "<Figure size 640x480 with 1 Axes>"
            ],
            "image/png": "[encoded data removed]"
          },
          "metadata": {}
        },
        {
          "output_type": "display_data",
          "data": {
            "text/plain": [
              "<Figure size 640x480 with 1 Axes>"
            ],
            "image/png": "[encoded data removed]"
          },
          "metadata": {}
        },
        {
          "output_type": "display_data",
          "data": {
            "text/plain": [
              "<Figure size 640x480 with 1 Axes>"
            ],
            "image/png": "[encoded data removed]"
          },
          "metadata": {}
        }
      ]
    },
    {
      "cell_type": "code",
      "source": [],
      "metadata": {
        "id": "YmCUr_DqZTW8"
      },
      "execution_count": null,
      "outputs": []
    }
  ]
}